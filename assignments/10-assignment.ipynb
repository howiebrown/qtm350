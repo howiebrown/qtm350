{
 "cells": [
  {
   "cell_type": "markdown",
   "metadata": {},
   "source": [
    "# Assignment 10: Join and Merge in SQL\n",
    "\n",
    "## Introduction\n",
    "\n",
    "For this assignment, you will continue working with SQL databases. This time, you should use Python to write the SQL questies. If possible, please submit your answers in HTML format. The data and questions are listed below.\n"
   ]
  },
  {
   "cell_type": "code",
   "execution_count": null,
   "metadata": {
    "vscode": {
     "languageId": "sql"
    }
   },
   "outputs": [],
   "source": [
    "DROP TABLE IF EXISTS directors CASCADE;\n",
    "DROP TABLE IF EXISTS movies CASCADE;\n",
    "CREATE TABLE directors (\n",
    "    director_id SERIAL PRIMARY KEY,\n",
    "    director_name VARCHAR(100),\n",
    "    country VARCHAR(50),\n",
    "    birth_year INT,\n",
    "    awards INT\n",
    ");\n",
    "\n",
    "CREATE TABLE movies (\n",
    "    movie_id SERIAL PRIMARY KEY,\n",
    "    title VARCHAR(100),\n",
    "    director_id INT,\n",
    "    release_year INT,\n",
    "    box_office DECIMAL(12,2),\n",
    "    rating DECIMAL(3,1),\n",
    "    FOREIGN KEY (director_id) REFERENCES directors(director_id)\n",
    ");\n",
    "\n",
    "INSERT INTO directors (director_name, country, birth_year, awards) VALUES\n",
    "('Christopher Nolan', 'UK', 1970, 5),\n",
    "('Greta Gerwig', 'USA', 1983, 3),\n",
    "('Bong Joon-ho', 'South Korea', 1969, 4),\n",
    "('Sofia Coppola', 'USA', 1971, 2),\n",
    "('Pedro Almodóvar', 'Spain', 1949, 6),\n",
    "('Agnès Varda', 'France', 1928, 4);\n",
    "\n",
    "INSERT INTO movies (title, director_id, release_year, box_office, rating) VALUES\n",
    "('Oppenheimer', 1, 2023, 950000000.00, 8.5),\n",
    "('Barbie', 2, 2023, 1440000000.00, 7.0),\n",
    "('Parasite', 3, 2019, 258773645.00, 8.9),\n",
    "('Lost in Translation', 4, 2003, 119723856.00, 7.7),\n",
    "('Pain and Glory', 5, 2019, 38219573.00, 7.5),\n",
    "('Faces Places', 6, 2017, 903996.00, 7.9),\n",
    "('Inception', 1, 2010, 836836967.00, 8.8),\n",
    "('Lady Bird', 2, 2017, 78965367.00, 7.4);"
   ]
  },
  {
   "cell_type": "code",
   "execution_count": 1,
   "metadata": {},
   "outputs": [
    {
     "ename": "ModuleNotFoundError",
     "evalue": "No module named 'psycopg2'",
     "output_type": "error",
     "traceback": [
      "\u001b[0;31m---------------------------------------------------------------------------\u001b[0m",
      "\u001b[0;31mModuleNotFoundError\u001b[0m                       Traceback (most recent call last)",
      "Cell \u001b[0;32mIn[1], line 2\u001b[0m\n\u001b[1;32m      1\u001b[0m \u001b[38;5;66;03m# Please import the necessary packages and establish the connection to the database\u001b[39;00m\n\u001b[0;32m----> 2\u001b[0m \u001b[38;5;28;01mimport\u001b[39;00m \u001b[38;5;21;01mpsycopg2\u001b[39;00m\n\u001b[1;32m      3\u001b[0m \u001b[38;5;28;01mfrom\u001b[39;00m \u001b[38;5;21;01mpsycopg2\u001b[39;00m \u001b[38;5;28;01mimport\u001b[39;00m sql\n\u001b[1;32m      4\u001b[0m \u001b[38;5;28;01mimport\u001b[39;00m \u001b[38;5;21;01mpandas\u001b[39;00m \u001b[38;5;28;01mas\u001b[39;00m \u001b[38;5;21;01mpd\u001b[39;00m\n",
      "\u001b[0;31mModuleNotFoundError\u001b[0m: No module named 'psycopg2'"
     ]
    }
   ],
   "source": [
    "# Please import the necessary packages and establish the connection to the database\n",
    "import psycopg2\n",
    "from psycopg2 import sql\n",
    "import pandas as pd"
   ]
  },
  {
   "cell_type": "markdown",
   "metadata": {},
   "source": [
    "#### as you know, I have had issues with this situation, and so I will not be able to establish the proper connection, but only the packages and writing the code."
   ]
  },
  {
   "cell_type": "markdown",
   "metadata": {},
   "source": [
    "1. Write a query using `INNER JOIN` to display the movie title, director name, and box office earnings for all movies, ordered by box office earnings in descending order"
   ]
  },
  {
   "cell_type": "code",
   "execution_count": null,
   "metadata": {},
   "outputs": [],
   "source": [
    "# Your code goes here\n",
    "SELECT movies.title, directors.director_name, movies.box_office\n",
    "FROM movies\n",
    "INNER JOIN directors ON movies.director_id = directors.director_id\n",
    "ORDER BY movies.box_office DESC;"
   ]
  },
  {
   "cell_type": "markdown",
   "metadata": {},
   "source": [
    "2. Using a `LEFT JOIN`, find all directors and count the number of movies they have directed."
   ]
  },
  {
   "cell_type": "code",
   "execution_count": null,
   "metadata": {},
   "outputs": [],
   "source": [
    "# Your code goes here\n",
    "SELECT directors.director_name, COUNT(movies.movie_id) AS movie_count\n",
    "FROM directors\n",
    "LEFT JOIN movies ON directors.director_id = movies.director_id\n",
    "GROUP BY directors.director_name;\n"
   ]
  },
  {
   "cell_type": "markdown",
   "metadata": {},
   "source": [
    "3. Write a `SELF JOIN` query to compare the ratings of movies by the same director. Show only pairs where the second movie has a higher rating than the first."
   ]
  },
  {
   "cell_type": "code",
   "execution_count": null,
   "metadata": {},
   "outputs": [],
   "source": [
    "# Your code goes here\n",
    "SELECT m1.title AS movie1, m2.title AS movie2, directors.director_name\n",
    "FROM movies m1\n",
    "JOIN movies m2 ON m1.director_id = m2.director_id AND m1.movie_id < m2.movie_id\n",
    "JOIN directors ON m1.director_id = directors.director_id\n",
    "WHERE m2.rating > m1.rating;\n"
   ]
  },
  {
   "cell_type": "markdown",
   "metadata": {},
   "source": [
    "4. Using appropriate joins, find directors who have made movies with above-average box office earnings (compared to all movies in the database)."
   ]
  },
  {
   "cell_type": "code",
   "execution_count": null,
   "metadata": {},
   "outputs": [],
   "source": [
    "# Your code goes here\n",
    "WITH avg_box_office AS (\n",
    "    SELECT AVG(box_office) AS average_box_office FROM movies\n",
    ")\n",
    "SELECT DISTINCT directors.director_name\n",
    "FROM movies\n",
    "JOIN directors ON movies.director_id = directors.director_id\n",
    "WHERE movies.box_office > (SELECT average_box_office FROM avg_box_office);\n"
   ]
  },
  {
   "cell_type": "markdown",
   "metadata": {},
   "source": [
    "5. Create a query using `CROSS JOIN` to show all possible combinations of directors and movies, even if they did not direct them. Limit the output to 10 rows.\n"
   ]
  },
  {
   "cell_type": "code",
   "execution_count": null,
   "metadata": {},
   "outputs": [],
   "source": [
    "# Your code goes here\n",
    "SELECT directors.director_name, movies.title\n",
    "FROM directors\n",
    "CROSS JOIN movies\n",
    "LIMIT 10;\n"
   ]
  },
  {
   "cell_type": "markdown",
   "metadata": {},
   "source": [
    "6. Write a query that uses `UNION` to create a list of all director names and movie titles in a single column. Label the column `name` and include a column (called `type`) indicating if it is a director or movie. Order the results by type and name.\n",
    "\n",
    "Hint: Use `'Director'` and `'Movie'` as the labels for the second column. Please also use `as type` to rename the column (example `director_name as name, 'Director' as type`)."
   ]
  },
  {
   "cell_type": "code",
   "execution_count": null,
   "metadata": {},
   "outputs": [],
   "source": [
    "# Your code goes here\n",
    "SELECT director_name AS name, 'Director' AS type\n",
    "FROM directors\n",
    "UNION\n",
    "SELECT title AS name, 'Movie' AS type\n",
    "FROM movies\n",
    "ORDER BY type, name;\n"
   ]
  },
  {
   "cell_type": "markdown",
   "metadata": {},
   "source": [
    "7. Using appropriate joins, find the director with the highest average movie rating. Show only the row with the director's name, average rating, and number of movies."
   ]
  },
  {
   "cell_type": "code",
   "execution_count": null,
   "metadata": {},
   "outputs": [],
   "source": [
    "# Your code goes here\n",
    "SELECT directors.director_name, AVG(movies.rating) AS average_rating, COUNT(movies.movie_id) AS movie_count\n",
    "FROM directors\n",
    "JOIN movies ON directors.director_id = movies.director_id\n",
    "GROUP BY directors.director_name\n",
    "ORDER BY average_rating DESC\n",
    "LIMIT 1;\n"
   ]
  },
  {
   "cell_type": "markdown",
   "metadata": {},
   "source": [
    "8. Create a query using `LEFT JOIN` and `IS NULL` to find whether there are directors who have not directed any movies."
   ]
  },
  {
   "cell_type": "code",
   "execution_count": null,
   "metadata": {},
   "outputs": [],
   "source": [
    "# Your code goes here\n",
    "SELECT directors.director_name\n",
    "FROM directors\n",
    "LEFT JOIN movies ON directors.director_id = movies.director_id\n",
    "WHERE movies.movie_id IS NULL;\n"
   ]
  },
  {
   "cell_type": "markdown",
   "metadata": {},
   "source": [
    "9. Using appropriate joins, find pairs of movies released in the same year, along with their directors' names. Please do not match a movie with itself. "
   ]
  },
  {
   "cell_type": "code",
   "execution_count": null,
   "metadata": {},
   "outputs": [],
   "source": [
    "# Your code goes here\n",
    "SELECT m1.title AS movie1, m2.title AS movie2, d1.director_name AS director1, d2.director_name AS director2\n",
    "FROM movies m1\n",
    "JOIN movies m2 ON m1.release_year = m2.release_year AND m1.movie_id < m2.movie_id\n",
    "JOIN directors d1 ON m1.director_id = d1.director_id\n",
    "JOIN directors d2 ON m2.director_id = d2.director_id;\n"
   ]
  },
  {
   "cell_type": "markdown",
   "metadata": {},
   "source": [
    "10. Show the age of each director when they released their movies. Create a column entitled `age_at_release` in your output. Order the results by the director's name and the movie's release year."
   ]
  },
  {
   "cell_type": "code",
   "execution_count": null,
   "metadata": {},
   "outputs": [],
   "source": [
    "# Your code goes here\n",
    "SELECT directors.director_name, movies.title, movies.release_year, \n",
    "       (movies.release_year - directors.birth_year) AS age_at_release\n",
    "FROM directors\n",
    "JOIN movies ON directors.director_id = movies.director_id\n",
    "ORDER BY directors.director_name, movies.release_year;\n"
   ]
  },
  {
   "cell_type": "markdown",
   "metadata": {},
   "source": [
    "Good luck! 😃"
   ]
  }
 ],
 "metadata": {
  "kernelspec": {
   "display_name": "base",
   "language": "python",
   "name": "python3"
  },
  "language_info": {
   "codemirror_mode": {
    "name": "ipython",
    "version": 3
   },
   "file_extension": ".py",
   "mimetype": "text/x-python",
   "name": "python",
   "nbconvert_exporter": "python",
   "pygments_lexer": "ipython3",
   "version": "3.11.4"
  }
 },
 "nbformat": 4,
 "nbformat_minor": 2
}

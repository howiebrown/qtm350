{
 "cells": [
  {
   "cell_type": "markdown",
   "metadata": {},
   "source": [
    "# QTM 350 - Data Science Computing\n",
    "\n",
    "## Assignment 01 - Computational Literacy\n",
    "### Due 11 September 2024\n",
    "\n",
    "### Instructions\n",
    "\n",
    "This assignment evaluates your understanding of topics covered in the first two weeks of class, including binary and hexadecimal number systems, ASCII encoding, and programming language fundamentals.\n",
    "\n",
    "You must complete this assignment individually. While you may use available resources such as notes, books, and AI tools, you are expected to submit original work. Please acknowledge all resources used, including input from classmates and AI. If you are unsure about permissible resources or proper acknowledgement, please consult the instructor.\n",
    "\n",
    "Present your solutions clearly and systematically, showing your problem-solving process. Please ensure that any code is well-commented.\n",
    "\n",
    "### Submission\n",
    "\n",
    "Please submit your solutions as either a single Jupyter notebook or a Quarto PDF file. Follow the instructions provided in each section carefully. Submit your completed assignment to Canvas or via email (danilo.freire@emory.edu) by Wednesday, September 11, at 11:59 PM."
   ]
  },
  {
   "cell_type": "markdown",
   "metadata": {},
   "source": [
    "### Question 01\n",
    "\n",
    "Convert the decimal number 53 to binary. Show your work."
   ]
  },
  {
   "cell_type": "code",
   "execution_count": 1,
   "metadata": {},
   "outputs": [
    {
     "data": {
      "text/plain": [
       "53"
      ]
     },
     "execution_count": 1,
     "metadata": {},
     "output_type": "execute_result"
    }
   ],
   "source": [
    "#Doing by hand\n",
    "\n",
    "2**5+2**4+2**2+2**0\n",
    "#So the binary code would be 110101"
   ]
  },
  {
   "cell_type": "code",
   "execution_count": 1,
   "metadata": {},
   "outputs": [
    {
     "name": "stdout",
     "output_type": "stream",
     "text": [
      "0b110101\n"
     ]
    }
   ],
   "source": [
    "#Using Python to check\n",
    "number = 53\n",
    "print(bin(number))"
   ]
  },
  {
   "cell_type": "markdown",
   "metadata": {},
   "source": [
    "### Question 02\n",
    "\n",
    "Convert the binary number 1011001 to decimal. Show your work."
   ]
  },
  {
   "cell_type": "code",
   "execution_count": 2,
   "metadata": {},
   "outputs": [
    {
     "data": {
      "text/plain": [
       "89"
      ]
     },
     "execution_count": 2,
     "metadata": {},
     "output_type": "execute_result"
    }
   ],
   "source": [
    "2**6+2**4+2**3+2**0"
   ]
  },
  {
   "cell_type": "markdown",
   "metadata": {},
   "source": [
    "### Question 03\n",
    "\n",
    "What is the hexadecimal representation of the RGB colour (128, 64, 255)? Explain your answer."
   ]
  },
  {
   "cell_type": "code",
   "execution_count": 3,
   "metadata": {},
   "outputs": [
    {
     "name": "stdout",
     "output_type": "stream",
     "text": [
      "#8040FF\n"
     ]
    }
   ],
   "source": [
    "#For R\n",
    "128/16 = 8\n",
    "128-16*8 = 0 \n",
    "#For G\n",
    "64/16 = 4\n",
    "64-16*4 = 0\n",
    "#For B\n",
    "255/16 = 15.9\n",
    "255-16*15 = 15\n",
    "\n",
    "#hexadecimal representation: #8040FF"
   ]
  },
  {
   "cell_type": "markdown",
   "metadata": {},
   "source": [
    "### Question 04\n",
    "\n",
    "Convert the hexadecimal colour #2A9F3B to its RGB components. Show your steps."
   ]
  },
  {
   "cell_type": "code",
   "execution_count": 17,
   "metadata": {},
   "outputs": [
    {
     "name": "stdout",
     "output_type": "stream",
     "text": [
      "(42, 159, 59)\n"
     ]
    }
   ],
   "source": [
    "#For R\n",
    "R = (2*16**1 + 10*16**0)\n",
    "#For G\n",
    "G = (9*16**1+15*16**0)\n",
    "#For B\n",
    "B = (3*16**1+11*16**0)\n",
    "\n",
    "print(f\"({R}, {G}, {B})\")"
   ]
  },
  {
   "cell_type": "markdown",
   "metadata": {},
   "source": [
    "### Question 05\n",
    "\n",
    "Using the coin representation system described in the lecture (c[quarters][dimes][nickels][pennies]), convert $1.37 to coin representation. Explain your reasoning."
   ]
  },
  {
   "cell_type": "markdown",
   "metadata": {},
   "source": [
    "#for this example we would need five quarters ($1.25), one dime ($1.35) and two pennies ($1.37)\n",
    "#so the representation would be:\n",
    "#c5102"
   ]
  },
  {
   "cell_type": "markdown",
   "metadata": {},
   "source": [
    "### Question 06\n",
    "\n",
    "What is the Unicode representation of the word \"Emory\"? Use the Unicode table provided in the lecture to find out."
   ]
  },
  {
   "cell_type": "markdown",
   "metadata": {},
   "source": [
    "#### U+0045 U+006D U+006F U+0072 U+0079."
   ]
  },
  {
   "cell_type": "markdown",
   "metadata": {},
   "source": [
    "### Question 07\n",
    "\n",
    "Explain the difference between ASCII and Unicode. Why was Unicode developed, and what advantages does it offer over ASCII?"
   ]
  },
  {
   "cell_type": "markdown",
   "metadata": {},
   "source": [
    "#### ASCII is a simple, early encoding system designed for English, while Unicode is a comprehensive, global standard designed to represent characters from all languages and symbols. Thus, Unicode allows for a more global network and collaboration and the ability to understand more complex characters."
   ]
  },
  {
   "cell_type": "markdown",
   "metadata": {},
   "source": [
    "### Question 08\n",
    "\n",
    "Describe the Von Neumann architecture and its significance in modern computing. What is the Von Neumann bottleneck, and how does it affect computer performance?"
   ]
  },
  {
   "cell_type": "markdown",
   "metadata": {},
   "source": [
    "##### The Von Neumann architecture is a computer design model where both program instructions and data are stored in the same memory. It consists of key components like the CPU, memory, input/output devices, and buses that transfer data between them. While this architecture has been foundational to modern computing, it suffers from the Von Neumann bottleneck, where the CPU and memory share the same data path, limiting the system’s speed. This bottleneck results in delays as the CPU waits for data or instructions to travel back and forth from memory. Overcoming this limitation is essential for improving computer performance, especially with the rise of faster processors and multitasking systems."
   ]
  },
  {
   "cell_type": "markdown",
   "metadata": {},
   "source": [
    "### Question 09\n",
    "\n",
    "Compare and contrast low-level and high-level programming languages. Give two examples of each and explain when you might choose to use one over the other."
   ]
  },
  {
   "cell_type": "markdown",
   "metadata": {},
   "source": [
    "##### Low-level programming languages, like Assembly and C, are closer to machine code, offering fine control over hardware but requiring more detailed, complex code. High-level languages, like Python and Java, are more abstract and easier to read, allowing faster development but sacrificing some control and efficiency. You would use a low-level language when performance and memory management are critical, such as in embedded systems or operating system development. High-level languages are ideal for rapid application development, scripting, or when ease of use and readability are priorities."
   ]
  },
  {
   "cell_type": "markdown",
   "metadata": {},
   "source": [
    "### Question 10\n",
    "\n",
    "Discuss the concept of abstraction in computer science, using the representation of images in computers as an example. How does this abstraction process impact data analysis and predictive modelling in image-related tasks?"
   ]
  },
  {
   "cell_type": "markdown",
   "metadata": {},
   "source": [
    "#### Abstraction in computer science is about breaking down complex things into simpler pieces so we can work with them more easily. For images, computers turn pictures into pixel data, where each pixel is just a number representing a color, like red, green, or blue. This helps when analyzing images or using models like neural networks, which look for patterns in the pixels rather than focusing on every single one. By simplifying images this way, computers can better recognize objects or make predictions from the patterns they find."
   ]
  }
 ],
 "metadata": {
  "kernelspec": {
   "display_name": "base",
   "language": "python",
   "name": "python3"
  },
  "language_info": {
   "codemirror_mode": {
    "name": "ipython",
    "version": 3
   },
   "file_extension": ".py",
   "mimetype": "text/x-python",
   "name": "python",
   "nbconvert_exporter": "python",
   "pygments_lexer": "ipython3",
   "version": "3.11.4"
  }
 },
 "nbformat": 4,
 "nbformat_minor": 2
}

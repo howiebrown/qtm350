{
 "cells": [
  {
   "cell_type": "markdown",
   "metadata": {},
   "source": [
    "# Assignment 08: Advanced Pandas\n",
    "\n",
    "## Introduction\n",
    "\n",
    "In this assignment, you will apply pandas techniques to analyse the `results.csv` dataset from Formula 1 races. Each question is designed to test your ability to manipulate and analyse data in Python.\n",
    "\n",
    "## Instructions\n",
    "\n",
    "- **Data Loading**: Use `pd.read_csv()` to load the `results.csv` dataset. The data are [available as a `.csv` file](https://github.com/danilofreire/qtm350/blob/main/assignments/results.csv) in the `assignments` folder or in the `08-assignment.zip` file in the `assignments` folder [in the course repository](https://github.com/danilofreire/qtm350/blob/main/assignments/08-assignment.zip). Treat `\\\\N` as `NaN` when loading the data.\n",
    "- **Data Cleaning**: Ensure that all relevant columns are in the appropriate data types before performing analyses. Convert the `time` and `fastestLapTime` columns to `timedelta` data types, and the others to numeric data types if necessary (`to_numeric`).\n",
    "\n",
    "## Questions\n",
    "\n",
    "### 1. Filtering Top 5 Finishers\n",
    "\n",
    "- **Functions to Use**: `query()`\n",
    "  \n",
    "- **Task**: Filter the DataFrame to include only drivers who finished in the top 5 positions (`position`). Return the resulting DataFrame with all relevant columns.\n",
    "\n",
    "### 2. Handling Missing Race Times\n",
    "\n",
    "- **Functions to Use**: `to_timedelta()`, `fillna()` (search what `to_timedelta()` does)\n",
    "  \n",
    "- **Task**: Identify missing values in the `time` column and fill them with the median race time. Ensure that the `time` column remains in an appropriate data format after filling. Use the option `errors='coerce'` if necessary.\n",
    "\n",
    "### 3. Total Points per Driver\n",
    "\n",
    "- **Functions to Use**: `groupby()`, `agg()`, `reset_index()`\n",
    "  \n",
    "- **Task**: Calculate the total points earned by each driver across all races. Return a DataFrame with columns `driverId` and `TotalPoints`.\n",
    "\n",
    "### 4. Constructors with Most Wins\n",
    "\n",
    "- **Functions to Use**: `query()`, `groupby()`, `agg()`, `reset_index()`\n",
    "  \n",
    "- **Task**: Determine which `constructorId` has the highest number of first-place finishes (`position == 1`). Return the `constructorId` along with the number of wins.\n",
    "\n",
    "### 5. Average Fastest Lap Speed per Race\n",
    "\n",
    "- **Functions to Use**: `groupby()`, `agg()`, `reset_index()`\n",
    "  \n",
    "- **Task**: Calculate the average `fastestLapSpeed` for each `raceId`. Return a DataFrame with columns `raceId` and `AverageFastestLapSpeed`.\n",
    "\n",
    "### 6. Top 3 Drivers by Average Position\n",
    "\n",
    "- **Functions to Use**: `groupby()`, `agg()`, `nsmallest()`, `reset_index()`\n",
    "  \n",
    "- **Task**: Identify the top 3 drivers with the lowest average `positionOrder` (indicating better performance). Return a DataFrame with columns: `driverId` and `AveragePosition`.\n",
    "\n",
    "### 7. Distribution of Starting Grid Positions\n",
    "\n",
    "- **Functions to Use**: `plot()`, `hist()`\n",
    "  \n",
    "- **Task**: Create a histogram to visualise the distribution of `grid` positions from which drivers started the races. Customise the histogram with appropriate titles and labels.\n",
    "\n",
    "### 8. Identifying Consistent Finishers\n",
    "\n",
    "- **Functions to Use**: `groupby()`, `filter()`, `unique()`\n",
    "  \n",
    "- **Task**: Identify drivers who have finished every race they entered (`statusId == 1`). Return a list of their `driverId`s. You may need to create a custom function to filter the data, such as `lambda x: (x['statusId'] == 1).all())`.\n",
    "\n",
    "### 9. Fastest Laps by Driver\n",
    "\n",
    "- **Functions to Use**: `groupby()`, `agg()`, `reset_index()`, `to_timedelta()`\n",
    "  \n",
    "- **Task**: For each driver, find the fastest `fastestLapTime` they have achieved. Return a DataFrame with columns: `driverId` and `FastestLapTime`.\n",
    "\n",
    "### 10. Correlation Between Grid Position and Final Position\n",
    "\n",
    "- **Functions to Use**: `dropna()`, `corr()`, `to_numeric()`\n",
    "  \n",
    "- **Task**: Compute the correlation coefficient between starting `grid` position and final `position`. Interpret the strength and direction of the relationship.\n",
    "\n",
    "---\n",
    "\n",
    "## Bonus Question\n",
    "\n",
    "### Combining GroupBy with Custom Aggregations\n",
    "\n",
    "- **Functions to Use**: `groupby()`, `agg()`, `reset_index()`\n",
    "  \n",
    "- **Task**: Group the data by `driverId` and `Year` (if available), then calculate:\n",
    "  - The number of races participated in.\n",
    "  - The total points earned.\n",
    "  - The best finishing position achieved.\n",
    "  \n",
    "- Return a DataFrame with columns: `Driver`, `Year`, `RacesParticipated`, `TotalPoints`, and `BestPosition`.\n",
    "\n",
    "---\n",
    "\n",
    "Good luck! 😊"
   ]
  },
  {
   "cell_type": "code",
   "execution_count": 3,
   "metadata": {},
   "outputs": [
    {
     "name": "stdout",
     "output_type": "stream",
     "text": [
      "   resultId  raceId  driverId  constructorId  number  grid  position  \\\n",
      "0         1      18         1              1    22.0     1       1.0   \n",
      "1         2      18         2              2     3.0     5       2.0   \n",
      "2         3      18         3              3     7.0     7       3.0   \n",
      "3         4      18         4              4     5.0    11       4.0   \n",
      "4         5      18         5              1    23.0     3       5.0   \n",
      "\n",
      "   positionText  positionOrder  points  laps                   time  \\\n",
      "0           1.0              1    10.0    58 0 days 01:34:50.616000   \n",
      "1           2.0              2     8.0    58                    NaT   \n",
      "2           3.0              3     6.0    58                    NaT   \n",
      "3           4.0              4     5.0    58                    NaT   \n",
      "4           5.0              5     4.0    58                    NaT   \n",
      "\n",
      "   milliseconds  fastestLap  rank fastestLapTime  fastestLapSpeed  statusId  \n",
      "0     5690616.0        39.0   2.0            NaT          218.300         1  \n",
      "1     5696094.0        41.0   3.0            NaT          217.586         1  \n",
      "2     5698779.0        41.0   5.0            NaT          216.719         1  \n",
      "3     5707797.0        58.0   7.0            NaT          215.464         1  \n",
      "4     5708630.0        43.0   1.0            NaT          218.385         1  \n"
     ]
    }
   ],
   "source": [
    "import pandas as pd\n",
    "\n",
    "# Load the dataset, treating '\\\\N' as NaN\n",
    "results = pd.read_csv('results.csv', na_values='\\\\N')\n",
    "\n",
    "# Convert 'time' and 'fastestLapTime' to timedelta format\n",
    "results['time'] = pd.to_timedelta(results['time'], errors='coerce')\n",
    "results['fastestLapTime'] = pd.to_timedelta(results['fastestLapTime'], errors='coerce')\n",
    "\n",
    "# Convert other relevant columns to numeric, coercing errors to NaN\n",
    "for column in results.columns:\n",
    "    if column not in ['time', 'fastestLapTime']:\n",
    "        results[column] = pd.to_numeric(results[column], errors='coerce')\n",
    "\n",
    "# Display the cleaned DataFrame (optional)\n",
    "print(results.head())\n"
   ]
  },
  {
   "cell_type": "code",
   "execution_count": 4,
   "metadata": {},
   "outputs": [
    {
     "name": "stdout",
     "output_type": "stream",
     "text": [
      "   resultId  raceId  driverId  constructorId  number  grid  position  \\\n",
      "0         1      18         1              1    22.0     1       1.0   \n",
      "1         2      18         2              2     3.0     5       2.0   \n",
      "2         3      18         3              3     7.0     7       3.0   \n",
      "3         4      18         4              4     5.0    11       4.0   \n",
      "4         5      18         5              1    23.0     3       5.0   \n",
      "\n",
      "   positionText  positionOrder  points  laps                   time  \\\n",
      "0           1.0              1    10.0    58 0 days 01:34:50.616000   \n",
      "1           2.0              2     8.0    58                    NaT   \n",
      "2           3.0              3     6.0    58                    NaT   \n",
      "3           4.0              4     5.0    58                    NaT   \n",
      "4           5.0              5     4.0    58                    NaT   \n",
      "\n",
      "   milliseconds  fastestLap  rank fastestLapTime  fastestLapSpeed  statusId  \n",
      "0     5690616.0        39.0   2.0            NaT          218.300         1  \n",
      "1     5696094.0        41.0   3.0            NaT          217.586         1  \n",
      "2     5698779.0        41.0   5.0            NaT          216.719         1  \n",
      "3     5707797.0        58.0   7.0            NaT          215.464         1  \n",
      "4     5708630.0        43.0   1.0            NaT          218.385         1  \n"
     ]
    }
   ],
   "source": [
    "# Question 1\n",
    "top_5_finishers_df = results.query(\"position <= 5\")\n",
    "\n",
    "# Display the filtered DataFrame (optional)\n",
    "print(top_5_finishers_df.head())"
   ]
  },
  {
   "cell_type": "code",
   "execution_count": 5,
   "metadata": {},
   "outputs": [
    {
     "name": "stdout",
     "output_type": "stream",
     "text": [
      "   resultId  raceId  driverId  constructorId  number  grid  position  \\\n",
      "0         1      18         1              1    22.0     1       1.0   \n",
      "1         2      18         2              2     3.0     5       2.0   \n",
      "2         3      18         3              3     7.0     7       3.0   \n",
      "3         4      18         4              4     5.0    11       4.0   \n",
      "4         5      18         5              1    23.0     3       5.0   \n",
      "\n",
      "   positionText  positionOrder  points  laps                   time  \\\n",
      "0           1.0              1    10.0    58 0 days 01:34:50.616000   \n",
      "1           2.0              2     8.0    58 0 days 01:38:30.175000   \n",
      "2           3.0              3     6.0    58 0 days 01:38:30.175000   \n",
      "3           4.0              4     5.0    58 0 days 01:38:30.175000   \n",
      "4           5.0              5     4.0    58 0 days 01:38:30.175000   \n",
      "\n",
      "   milliseconds  fastestLap  rank fastestLapTime  fastestLapSpeed  statusId  \n",
      "0     5690616.0        39.0   2.0            NaT          218.300         1  \n",
      "1     5696094.0        41.0   3.0            NaT          217.586         1  \n",
      "2     5698779.0        41.0   5.0            NaT          216.719         1  \n",
      "3     5707797.0        58.0   7.0            NaT          215.464         1  \n",
      "4     5708630.0        43.0   1.0            NaT          218.385         1  \n"
     ]
    }
   ],
   "source": [
    "# Question 2\n",
    "# Convert 'time' column to timedelta format\n",
    "results['time'] = pd.to_timedelta(results['time'], errors='coerce')\n",
    "\n",
    "# Calculate the median time, ignoring NaT values\n",
    "median_time = results['time'].median()\n",
    "\n",
    "# Fill missing values in the 'time' column with the median race time\n",
    "results['time'] = results['time'].fillna(median_time)\n",
    "\n",
    "# Display the updated DataFrame (optional)\n",
    "print(results.head())"
   ]
  },
  {
   "cell_type": "code",
   "execution_count": 6,
   "metadata": {},
   "outputs": [
    {
     "name": "stdout",
     "output_type": "stream",
     "text": [
      "     driverId  TotalPoints\n",
      "0           1       4396.5\n",
      "1           2        259.0\n",
      "2           3       1594.5\n",
      "3           4       2061.0\n",
      "4           5        105.0\n",
      "..        ...          ...\n",
      "850       852         44.0\n",
      "851       853          0.0\n",
      "852       854         12.0\n",
      "853       855          6.0\n",
      "854       856          2.0\n",
      "\n",
      "[855 rows x 2 columns]\n"
     ]
    }
   ],
   "source": [
    "# Question 3\n",
    "# Calculate the total points earned by each driver across all races\n",
    "total_points_per_driver = results.groupby('driverId').agg(TotalPoints=('points', 'sum')).reset_index()\n",
    "\n",
    "# Display the resulting DataFrame (optional)\n",
    "print(total_points_per_driver)"
   ]
  },
  {
   "cell_type": "code",
   "execution_count": 7,
   "metadata": {},
   "outputs": [
    {
     "name": "stdout",
     "output_type": "stream",
     "text": [
      "   constructorId  Wins\n",
      "5              6   243\n"
     ]
    }
   ],
   "source": [
    "# Question 4\n",
    "# Filter the DataFrame to include only first-place finishes (position == 1)\n",
    "first_place_finishes = results.query(\"position == 1\")\n",
    "\n",
    "# Group by constructorId and count the number of wins\n",
    "constructor_wins = first_place_finishes.groupby('constructorId').agg(Wins=('position', 'count')).reset_index()\n",
    "\n",
    "# Identify the constructorId with the highest number of wins\n",
    "most_wins_constructor = constructor_wins.sort_values(by='Wins', ascending=False).head(1)\n",
    "\n",
    "# Display the resulting DataFrame (optional)\n",
    "print(most_wins_constructor)"
   ]
  },
  {
   "cell_type": "code",
   "execution_count": 8,
   "metadata": {},
   "outputs": [
    {
     "name": "stdout",
     "output_type": "stream",
     "text": [
      "      raceId  AverageFastestLapSpeed\n",
      "0          1              214.918895\n",
      "1          2              202.320556\n",
      "2          3              171.060450\n",
      "3          4              204.150650\n",
      "4          5              199.641562\n",
      "...      ...                     ...\n",
      "1074    1092              196.660722\n",
      "1075    1093              195.484737\n",
      "1076    1094              187.508450\n",
      "1077    1095              207.119389\n",
      "1078    1096              211.681050\n",
      "\n",
      "[1079 rows x 2 columns]\n"
     ]
    }
   ],
   "source": [
    "# Question 5\n",
    "# Calculate the average fastestLapSpeed for each raceId\n",
    "average_fastest_lap_speed_per_race = results.groupby('raceId').agg(AverageFastestLapSpeed=('fastestLapSpeed', 'mean')).reset_index()\n",
    "\n",
    "# Display the resulting DataFrame (optional)\n",
    "print(average_fastest_lap_speed_per_race)"
   ]
  },
  {
   "cell_type": "code",
   "execution_count": 9,
   "metadata": {},
   "outputs": [
    {
     "name": "stdout",
     "output_type": "stream",
     "text": [
      "     driverId  AveragePosition\n",
      "590       591              2.0\n",
      "801       802              2.0\n",
      "765       766              3.5\n"
     ]
    }
   ],
   "source": [
    "# Question 6\n",
    "# Calculate the average positionOrder for each driver\n",
    "average_position_per_driver = results.groupby('driverId').agg(AveragePosition=('positionOrder', 'mean')).reset_index()\n",
    "\n",
    "# Identify the top 3 drivers with the lowest average positionOrder\n",
    "top_3_drivers_by_average_position = average_position_per_driver.nsmallest(3, 'AveragePosition')\n",
    "\n",
    "# Display the resulting DataFrame (optional)\n",
    "print(top_3_drivers_by_average_position)\n"
   ]
  },
  {
   "cell_type": "code",
   "execution_count": 10,
   "metadata": {},
   "outputs": [
    {
     "data": {
      "image/png": "[encoded data removed]",
      "text/plain": [
       "<Figure size 1000x600 with 1 Axes>"
      ]
     },
     "metadata": {},
     "output_type": "display_data"
    }
   ],
   "source": [
    "# Question 7\n",
    "import matplotlib.pyplot as plt\n",
    "\n",
    "# Create a histogram to visualize the distribution of starting grid positions\n",
    "plt.figure(figsize=(10, 6))\n",
    "plt.hist(results['grid'].dropna(), bins=20, edgecolor='black')\n",
    "\n",
    "# Customize the histogram with titles and labels\n",
    "plt.title(\"Distribution of Starting Grid Positions\")\n",
    "plt.xlabel(\"Grid Position\")\n",
    "plt.ylabel(\"Frequency\")\n",
    "plt.grid(axis='y', linestyle='--', alpha=0.7)\n",
    "\n",
    "# Display the plot\n",
    "plt.show()\n"
   ]
  },
  {
   "cell_type": "code",
   "execution_count": 11,
   "metadata": {},
   "outputs": [
    {
     "name": "stdout",
     "output_type": "stream",
     "text": [
      "[515, 557, 591, 674, 727, 802, 851, 856]\n"
     ]
    }
   ],
   "source": [
    "# Question 8\n",
    "# Identify drivers who have finished every race they entered (statusId == 1)\n",
    "consistent_finishers = results.groupby('driverId').filter(lambda x: (x['statusId'] == 1).all())\n",
    "\n",
    "# Extract the unique driverIds from the filtered data\n",
    "consistent_driver_ids = consistent_finishers['driverId'].unique().tolist()\n",
    "\n",
    "# Display the list of driverIds who have consistently finished every race\n",
    "print(consistent_driver_ids)\n"
   ]
  },
  {
   "cell_type": "code",
   "execution_count": 12,
   "metadata": {},
   "outputs": [
    {
     "name": "stdout",
     "output_type": "stream",
     "text": [
      "     driverId FastestLapTime\n",
      "0           1            NaT\n",
      "1           2            NaT\n",
      "2           3            NaT\n",
      "3           4            NaT\n",
      "4           5            NaT\n",
      "..        ...            ...\n",
      "850       852            NaT\n",
      "851       853            NaT\n",
      "852       854            NaT\n",
      "853       855            NaT\n",
      "854       856            NaT\n",
      "\n",
      "[855 rows x 2 columns]\n"
     ]
    }
   ],
   "source": [
    "# Question 9\n",
    "# Convert the 'fastestLapTime' column to timedelta format for accurate calculations\n",
    "results['fastestLapTime'] = pd.to_timedelta(results['fastestLapTime'], errors='coerce')\n",
    "\n",
    "# Find the fastest lap time for each driver\n",
    "fastest_laps_by_driver = results.groupby('driverId').agg(FastestLapTime=('fastestLapTime', 'min')).reset_index()\n",
    "\n",
    "# Display the resulting DataFrame (optional)\n",
    "print(fastest_laps_by_driver)"
   ]
  },
  {
   "cell_type": "code",
   "execution_count": 24,
   "metadata": {},
   "outputs": [
    {
     "name": "stdout",
     "output_type": "stream",
     "text": [
      "Correlation Coefficient between Grid Position and Final Position: 0.6432946507834114\n"
     ]
    }
   ],
   "source": [
    "# Question 10\n",
    "# Ensure 'grid' and 'position' columns are numeric\n",
    "results['grid'] = pd.to_numeric(results['grid'], errors='coerce')\n",
    "results['position'] = pd.to_numeric(results['position'], errors='coerce')\n",
    "\n",
    "# Drop rows with NaN values in 'grid' or 'position' columns\n",
    "results_no_na = results.dropna(subset=['grid', 'position'])\n",
    "\n",
    "# Calculate the correlation coefficient between 'grid' (starting position) and 'position' (final position)\n",
    "correlation_coefficient = results_no_na['grid'].corr(results_no_na['position'])\n",
    "\n",
    "# Display the result\n",
    "print(\"Correlation Coefficient between Grid Position and Final Position:\", correlation_coefficient)"
   ]
  },
  {
   "cell_type": "code",
   "execution_count": 25,
   "metadata": {},
   "outputs": [
    {
     "name": "stdout",
     "output_type": "stream",
     "text": [
      "     Driver  RacesParticipated  TotalPoints  BestPosition\n",
      "0         1                310       4396.5           1.0\n",
      "1         2                184        259.0           2.0\n",
      "2         3                206       1594.5           1.0\n",
      "3         4                358       2061.0           1.0\n",
      "4         5                112        105.0           1.0\n",
      "..      ...                ...          ...           ...\n",
      "850     852                 44         44.0           4.0\n",
      "851     853                 22          0.0          14.0\n",
      "852     854                 44         12.0           6.0\n",
      "853     855                 22          6.0           8.0\n",
      "854     856                  1          2.0           9.0\n",
      "\n",
      "[855 rows x 4 columns]\n"
     ]
    }
   ],
   "source": [
    "# Bonus Question\n",
    "# Check if 'Year' column exists; if not, proceed without it\n",
    "if 'year' in results.columns:\n",
    "    # Group by driverId and year, if available\n",
    "    grouped_data = results.groupby(['driverId', 'year']).agg(\n",
    "        RacesParticipated=('raceId', 'nunique'),     # Count unique races\n",
    "        TotalPoints=('points', 'sum'),               # Sum of points earned\n",
    "        BestPosition=('position', 'min')             # Best finishing position\n",
    "    ).reset_index()\n",
    "else:\n",
    "    # Group by driverId only, if year is not available\n",
    "    grouped_data = results.groupby('driverId').agg(\n",
    "        RacesParticipated=('raceId', 'nunique'),     # Count unique races\n",
    "        TotalPoints=('points', 'sum'),               # Sum of points earned\n",
    "        BestPosition=('position', 'min')             # Best finishing position\n",
    "    ).reset_index()\n",
    "\n",
    "# Rename columns to match the specified output\n",
    "grouped_data.rename(columns={'driverId': 'Driver', 'year': 'Year'}, inplace=True)\n",
    "\n",
    "# Display the resulting DataFrame (optional)\n",
    "print(grouped_data)"
   ]
  }
 ],
 "metadata": {
  "kernelspec": {
   "display_name": "base",
   "language": "python",
   "name": "python3"
  },
  "language_info": {
   "codemirror_mode": {
    "name": "ipython",
    "version": 3
   },
   "file_extension": ".py",
   "mimetype": "text/x-python",
   "name": "python",
   "nbconvert_exporter": "python",
   "pygments_lexer": "ipython3",
   "version": "3.11.4"
  }
 },
 "nbformat": 4,
 "nbformat_minor": 2
}

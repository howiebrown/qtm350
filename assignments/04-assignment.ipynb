{
 "cells": [
  {
   "cell_type": "markdown",
   "metadata": {},
   "source": [
    "# QTM 350 - Data Science Computing\n",
    "\n",
    "## Assignment 04: Advanced Git\n",
    "### Due 02 October 2024\n",
    "\n",
    "In this assignment, you will explore Git in more depth, focusing on commands we have not covered in class. You should research how to solve each task using specific Git commands. Feel free to use any tools you prefer to complete the assignment. Explain each command in simple terms. Of course, you are welcome to test them as well! If you have any questions, please let me know.\n",
    "\n",
    "### Questions\n",
    "\n",
    "1. What command would you use to display all the commits that have not yet been pushed to the remote repository?\n",
    "   \n",
    "2. Explain the purpose of the `git tag` command.\n",
    "   \n",
    "3. How do you remove a file from the repository history?\n",
    "   \n",
    "4. How do you temporarily save your changes without committing them?\n",
    "   \n",
    "5. How do you amend the most recent commit message?\n",
    "   \n",
    "6. How can you split a commit into multiple commits?\n",
    "   \n",
    "7. How do you display the changes between two branches?\n",
    "   \n",
    "8. What command would you use to see which remote repository a local repository is connected to?\n",
    "   \n",
    "9.  Explain the difference between `git merge` and `git rebase`.\n",
    "    \n",
    "10. How can you search for a specific commit message?"
   ]
  },
  {
   "cell_type": "markdown",
   "metadata": {},
   "source": [
    "#### 1. The code used would be git log\n",
    "#### 2. The purpose of git tag is to create a reference to a specific point in a repository's history.\n",
    "#### 3. To remove a file from the repository one can use the got git filter-branch\n",
    "#### 4. To temporarily save your changes without committing, you can use the command git stash\n",
    "#### 5. To amend the most recent commit message use the command git commit --amend\n",
    "#### 6. To split a commit into multiple commits use the following lines\n",
    "##### git rebase, change the word \"pick\" to \"edit\", then use git reset HEAD^\n",
    "#### 7. To display the changes between two branches use git diff <branch1>..<branch2>\n",
    "#### 8. To see which remote repository a local repository use the command git remote -v\n",
    "#### 9. Git merge combines the changes from one branch to another by creating a new merge commit. Git rebase re-applies commits from your branch on top of another base branch. Git merge lets you merge difference branches, and git rebase allows you to integrate the changes from one branch to another. \n",
    "#### 10. To search for a specific commit message use git log --grep='<search term>'"
   ]
  }
 ],
 "metadata": {
  "language_info": {
   "name": "python"
  }
 },
 "nbformat": 4,
 "nbformat_minor": 2
}
